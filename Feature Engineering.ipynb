{
 "cells": [
  {
   "cell_type": "code",
   "execution_count": 1,
   "id": "4e7aad2c",
   "metadata": {},
   "outputs": [],
   "source": [
    "import pickle\n",
    "import pandas as pd\n",
    "import re\n",
    "import nltk\n",
    "from nltk.corpus import stopwords\n",
    "from nltk.stem import WordNetLemmatizer\n",
    "from sklearn.feature_extraction.text import TfidfVectorizer\n",
    "from sklearn.model_selection import train_test_split\n",
    "from sklearn.feature_selection import chi2\n",
    "import numpy as np"
   ]
  },
  {
   "cell_type": "code",
   "execution_count": 2,
   "id": "c0fe86cd",
   "metadata": {},
   "outputs": [],
   "source": [
    "path_df = r\"C:\\ICE-1\\ICE-1\\02 Exploratory Data Analysis\\News_dataset.pickle\"\n",
    "\n",
    "with open(path_df, 'rb') as data:\n",
    "    df = pickle.load(data)"
   ]
  },
  {
   "cell_type": "code",
   "execution_count": 3,
   "id": "a29b885a",
   "metadata": {},
   "outputs": [
    {
     "data": {
      "text/html": [
       "<div>\n",
       "<style scoped>\n",
       "    .dataframe tbody tr th:only-of-type {\n",
       "        vertical-align: middle;\n",
       "    }\n",
       "\n",
       "    .dataframe tbody tr th {\n",
       "        vertical-align: top;\n",
       "    }\n",
       "\n",
       "    .dataframe thead th {\n",
       "        text-align: right;\n",
       "    }\n",
       "</style>\n",
       "<table border=\"1\" class=\"dataframe\">\n",
       "  <thead>\n",
       "    <tr style=\"text-align: right;\">\n",
       "      <th></th>\n",
       "      <th>Article Content</th>\n",
       "      <th>Category</th>\n",
       "      <th>id</th>\n",
       "      <th>News_length</th>\n",
       "    </tr>\n",
       "  </thead>\n",
       "  <tbody>\n",
       "    <tr>\n",
       "      <th>0</th>\n",
       "      <td>The term ‘autopilot’ has been used for decades...</td>\n",
       "      <td>Autonomous Cars</td>\n",
       "      <td>1</td>\n",
       "      <td>425.0</td>\n",
       "    </tr>\n",
       "    <tr>\n",
       "      <th>1</th>\n",
       "      <td>Tesla most famously branded its self-driving f...</td>\n",
       "      <td>Autonomous Cars</td>\n",
       "      <td>1</td>\n",
       "      <td>220.0</td>\n",
       "    </tr>\n",
       "    <tr>\n",
       "      <th>2</th>\n",
       "      <td>This article provides a breakdown of cars with...</td>\n",
       "      <td>Autonomous Cars</td>\n",
       "      <td>1</td>\n",
       "      <td>151.0</td>\n",
       "    </tr>\n",
       "    <tr>\n",
       "      <th>3</th>\n",
       "      <td>First, let’s define exactly what constitutes ‘...</td>\n",
       "      <td>Autonomous Cars</td>\n",
       "      <td>1</td>\n",
       "      <td>354.0</td>\n",
       "    </tr>\n",
       "    <tr>\n",
       "      <th>4</th>\n",
       "      <td>Learn more about this by reading our article o...</td>\n",
       "      <td>Autonomous Cars</td>\n",
       "      <td>1</td>\n",
       "      <td>105.0</td>\n",
       "    </tr>\n",
       "  </tbody>\n",
       "</table>\n",
       "</div>"
      ],
      "text/plain": [
       "                                     Article Content         Category  id  \\\n",
       "0  The term ‘autopilot’ has been used for decades...  Autonomous Cars   1   \n",
       "1  Tesla most famously branded its self-driving f...  Autonomous Cars   1   \n",
       "2  This article provides a breakdown of cars with...  Autonomous Cars   1   \n",
       "3  First, let’s define exactly what constitutes ‘...  Autonomous Cars   1   \n",
       "4  Learn more about this by reading our article o...  Autonomous Cars   1   \n",
       "\n",
       "   News_length  \n",
       "0        425.0  \n",
       "1        220.0  \n",
       "2        151.0  \n",
       "3        354.0  \n",
       "4        105.0  "
      ]
     },
     "execution_count": 3,
     "metadata": {},
     "output_type": "execute_result"
    }
   ],
   "source": [
    "df.head()"
   ]
  },
  {
   "cell_type": "code",
   "execution_count": 4,
   "id": "251cbbd7",
   "metadata": {},
   "outputs": [
    {
     "data": {
      "text/plain": [
       "'Autopilot is a generic term used in multiple industries, particularly aircraft, and generally means that something can guide itself without human intervention.  In relation to cars in 2021, most mainstream carmakers are focused on, Level 2 autonomy. This level allows the vehicle to take over most steering, acceleration and braking functions, but still requires that the driver remain fully attentive to the driving situation and be able to intervene at any moment. It is not driverless, fully autonomous driving, like robotaxis from Waymo or Cruise (that are now testing in California).'"
      ]
     },
     "execution_count": 4,
     "metadata": {},
     "output_type": "execute_result"
    }
   ],
   "source": [
    "df.loc[5]['Article Content']"
   ]
  },
  {
   "cell_type": "code",
   "execution_count": 5,
   "id": "3f55ea48",
   "metadata": {},
   "outputs": [],
   "source": [
    "df['Content_Parsed_1'] = df['Article Content'].str.replace(\"\\r\", \" \")\n",
    "df['Content_Parsed_1'] = df['Content_Parsed_1'].str.replace(\"\\n\", \" \")\n",
    "df['Content_Parsed_1'] = df['Content_Parsed_1'].str.replace(\"    \", \" \")"
   ]
  },
  {
   "cell_type": "code",
   "execution_count": 6,
   "id": "f17c4c62",
   "metadata": {},
   "outputs": [
    {
     "data": {
      "text/plain": [
       "\"Mr Greenspan's\""
      ]
     },
     "execution_count": 6,
     "metadata": {},
     "output_type": "execute_result"
    }
   ],
   "source": [
    "text = \"Mr Greenspan\\'s\"\n",
    "text"
   ]
  },
  {
   "cell_type": "code",
   "execution_count": 7,
   "id": "c6b28aee",
   "metadata": {},
   "outputs": [],
   "source": [
    "df['Content_Parsed_1'] = df['Content_Parsed_1'].str.replace('\"', '')"
   ]
  },
  {
   "cell_type": "code",
   "execution_count": 8,
   "id": "76203f5b",
   "metadata": {},
   "outputs": [],
   "source": [
    "df['Content_Parsed_2'] = df['Content_Parsed_1'].str.lower()"
   ]
  },
  {
   "cell_type": "code",
   "execution_count": 9,
   "id": "92437fa7",
   "metadata": {},
   "outputs": [
    {
     "name": "stderr",
     "output_type": "stream",
     "text": [
      "<ipython-input-9-cdceb98d92a9>:5: FutureWarning: The default value of regex will change from True to False in a future version. In addition, single character regular expressions will*not* be treated as literal strings when regex=True.\n",
      "  df['Content_Parsed_3'] = df['Content_Parsed_3'].str.replace(punct_sign, '')\n"
     ]
    }
   ],
   "source": [
    "punctuation_signs = list(\"?:!.,;\")\n",
    "df['Content_Parsed_3'] = df['Content_Parsed_2']\n",
    "\n",
    "for punct_sign in punctuation_signs:\n",
    "    df['Content_Parsed_3'] = df['Content_Parsed_3'].str.replace(punct_sign, '')"
   ]
  },
  {
   "cell_type": "code",
   "execution_count": 10,
   "id": "f9b5ed86",
   "metadata": {},
   "outputs": [],
   "source": [
    "df['Content_Parsed_4'] = df['Content_Parsed_3'].str.replace(\"'s\", \"\")"
   ]
  },
  {
   "cell_type": "code",
   "execution_count": 11,
   "id": "ad6c7eb3",
   "metadata": {},
   "outputs": [
    {
     "name": "stdout",
     "output_type": "stream",
     "text": [
      "------------------------------------------------------------\n"
     ]
    },
    {
     "name": "stderr",
     "output_type": "stream",
     "text": [
      "[nltk_data] Error loading punkt: <urlopen error [WinError 10065] A\n",
      "[nltk_data]     socket operation was attempted to an unreachable host>\n",
      "[nltk_data] Error loading wordnet: <urlopen error [Errno 11001]\n",
      "[nltk_data]     getaddrinfo failed>\n"
     ]
    },
    {
     "data": {
      "text/plain": [
       "False"
      ]
     },
     "execution_count": 11,
     "metadata": {},
     "output_type": "execute_result"
    }
   ],
   "source": [
    "# Downloading punkt and wordnet from NLTK\n",
    "nltk.download('punkt')\n",
    "print(\"------------------------------------------------------------\")\n",
    "nltk.download('wordnet')"
   ]
  },
  {
   "cell_type": "code",
   "execution_count": 12,
   "id": "60604909",
   "metadata": {},
   "outputs": [],
   "source": [
    "# Saving the lemmatizer into an object\n",
    "wordnet_lemmatizer = WordNetLemmatizer()"
   ]
  },
  {
   "cell_type": "code",
   "execution_count": 13,
   "id": "b3b3bc86",
   "metadata": {},
   "outputs": [],
   "source": [
    "nrows = len(df)\n",
    "lemmatized_text_list = []\n",
    "\n",
    "for row in range(0, nrows):\n",
    "    \n",
    "    # Create an empty list containing lemmatized words\n",
    "    lemmatized_list = []\n",
    "    \n",
    "    # Save the text and its words into an object\n",
    "    text = df.loc[row]['Content_Parsed_4']\n",
    "    text_words = str(text).split(\" \")\n",
    "\n",
    "    # Iterate through every word to lemmatize\n",
    "    for word in text_words:\n",
    "        lemmatized_list.append(wordnet_lemmatizer.lemmatize(word, pos=\"v\"))\n",
    "        \n",
    "    # Join the list\n",
    "    lemmatized_text = \" \".join(lemmatized_list)\n",
    "    \n",
    "    # Append to the list containing the texts\n",
    "    lemmatized_text_list.append(lemmatized_text)"
   ]
  },
  {
   "cell_type": "code",
   "execution_count": 14,
   "id": "66cb1f72",
   "metadata": {},
   "outputs": [],
   "source": [
    "df['Content_Parsed_5'] = lemmatized_text_list"
   ]
  },
  {
   "cell_type": "code",
   "execution_count": 15,
   "id": "e71d2877",
   "metadata": {},
   "outputs": [
    {
     "name": "stderr",
     "output_type": "stream",
     "text": [
      "[nltk_data] Error loading stopwords: <urlopen error [Errno 11001]\n",
      "[nltk_data]     getaddrinfo failed>\n"
     ]
    },
    {
     "data": {
      "text/plain": [
       "False"
      ]
     },
     "execution_count": 15,
     "metadata": {},
     "output_type": "execute_result"
    }
   ],
   "source": [
    "nltk.download('stopwords')"
   ]
  },
  {
   "cell_type": "code",
   "execution_count": 16,
   "id": "12f84301",
   "metadata": {},
   "outputs": [],
   "source": [
    "stop_words = list(stopwords.words('english'))"
   ]
  },
  {
   "cell_type": "code",
   "execution_count": 17,
   "id": "fea55e39",
   "metadata": {},
   "outputs": [
    {
     "data": {
      "text/plain": [
       "['i', 'me', 'my', 'myself', 'we', 'our', 'ours', 'ourselves', 'you', \"you're\"]"
      ]
     },
     "execution_count": 17,
     "metadata": {},
     "output_type": "execute_result"
    }
   ],
   "source": [
    "stop_words[0:10]"
   ]
  },
  {
   "cell_type": "code",
   "execution_count": 18,
   "id": "f8572bb3",
   "metadata": {},
   "outputs": [
    {
     "data": {
      "text/plain": [
       "'StopWord eating a meal'"
      ]
     },
     "execution_count": 18,
     "metadata": {},
     "output_type": "execute_result"
    }
   ],
   "source": [
    "example = \"me eating a meal\"\n",
    "word = \"me\"\n",
    "\n",
    "# The regular expression is:\n",
    "regex = r\"\\b\" + word + r\"\\b\"  # we need to build it like that to work properly\n",
    "\n",
    "re.sub(regex, \"StopWord\", example)"
   ]
  },
  {
   "cell_type": "code",
   "execution_count": 19,
   "id": "3cfcd93d",
   "metadata": {},
   "outputs": [
    {
     "name": "stderr",
     "output_type": "stream",
     "text": [
      "<ipython-input-19-3b7196a1b53b>:6: FutureWarning: The default value of regex will change from True to False in a future version.\n",
      "  df['Content_Parsed_6'] = df['Content_Parsed_6'].str.replace(regex_stopword, '')\n"
     ]
    }
   ],
   "source": [
    "df['Content_Parsed_6'] = df['Content_Parsed_5']\n",
    "\n",
    "for stop_word in stop_words:\n",
    "\n",
    "    regex_stopword = r\"\\b\" + stop_word + r\"\\b\"\n",
    "    df['Content_Parsed_6'] = df['Content_Parsed_6'].str.replace(regex_stopword, '')"
   ]
  },
  {
   "cell_type": "code",
   "execution_count": 20,
   "id": "b227d226",
   "metadata": {},
   "outputs": [
    {
     "data": {
      "text/plain": [
       "'Autopilot is a generic term used in multiple industries, particularly aircraft, and generally means that something can guide itself without human intervention.  In relation to cars in 2021, most mainstream carmakers are focused on, Level 2 autonomy. This level allows the vehicle to take over most steering, acceleration and braking functions, but still requires that the driver remain fully attentive to the driving situation and be able to intervene at any moment. It is not driverless, fully autonomous driving, like robotaxis from Waymo or Cruise (that are now testing in California).'"
      ]
     },
     "execution_count": 20,
     "metadata": {},
     "output_type": "execute_result"
    }
   ],
   "source": [
    "df.loc[5]['Article Content']"
   ]
  },
  {
   "cell_type": "code",
   "execution_count": 21,
   "id": "f98d4413",
   "metadata": {},
   "outputs": [
    {
     "data": {
      "text/plain": [
       "'Autopilot is a generic term used in multiple industries, particularly aircraft, and generally means that something can guide itself without human intervention.  In relation to cars in 2021, most mainstream carmakers are focused on, Level 2 autonomy. This level allows the vehicle to take over most steering, acceleration and braking functions, but still requires that the driver remain fully attentive to the driving situation and be able to intervene at any moment. It is not driverless, fully autonomous driving, like robotaxis from Waymo or Cruise (that are now testing in California).'"
      ]
     },
     "execution_count": 21,
     "metadata": {},
     "output_type": "execute_result"
    }
   ],
   "source": [
    "df.loc[5]['Content_Parsed_1']"
   ]
  },
  {
   "cell_type": "code",
   "execution_count": 22,
   "id": "6b0ad06f",
   "metadata": {},
   "outputs": [
    {
     "data": {
      "text/plain": [
       "'autopilot is a generic term used in multiple industries, particularly aircraft, and generally means that something can guide itself without human intervention.  in relation to cars in 2021, most mainstream carmakers are focused on, level 2 autonomy. this level allows the vehicle to take over most steering, acceleration and braking functions, but still requires that the driver remain fully attentive to the driving situation and be able to intervene at any moment. it is not driverless, fully autonomous driving, like robotaxis from waymo or cruise (that are now testing in california).'"
      ]
     },
     "execution_count": 22,
     "metadata": {},
     "output_type": "execute_result"
    }
   ],
   "source": [
    "df.loc[5]['Content_Parsed_2']"
   ]
  },
  {
   "cell_type": "code",
   "execution_count": 23,
   "id": "ee1ac562",
   "metadata": {},
   "outputs": [
    {
     "data": {
      "text/plain": [
       "'autopilot is a generic term used in multiple industries particularly aircraft and generally means that something can guide itself without human intervention  in relation to cars in 2021 most mainstream carmakers are focused on level 2 autonomy this level allows the vehicle to take over most steering acceleration and braking functions but still requires that the driver remain fully attentive to the driving situation and be able to intervene at any moment it is not driverless fully autonomous driving like robotaxis from waymo or cruise (that are now testing in california)'"
      ]
     },
     "execution_count": 23,
     "metadata": {},
     "output_type": "execute_result"
    }
   ],
   "source": [
    "df.loc[5]['Content_Parsed_3']"
   ]
  },
  {
   "cell_type": "code",
   "execution_count": 24,
   "id": "4798ea3d",
   "metadata": {},
   "outputs": [
    {
     "data": {
      "text/plain": [
       "'autopilot is a generic term used in multiple industries particularly aircraft and generally means that something can guide itself without human intervention  in relation to cars in 2021 most mainstream carmakers are focused on level 2 autonomy this level allows the vehicle to take over most steering acceleration and braking functions but still requires that the driver remain fully attentive to the driving situation and be able to intervene at any moment it is not driverless fully autonomous driving like robotaxis from waymo or cruise (that are now testing in california)'"
      ]
     },
     "execution_count": 24,
     "metadata": {},
     "output_type": "execute_result"
    }
   ],
   "source": [
    "df.loc[5]['Content_Parsed_4']"
   ]
  },
  {
   "cell_type": "code",
   "execution_count": 25,
   "id": "372f4a8c",
   "metadata": {},
   "outputs": [
    {
     "data": {
      "text/plain": [
       "'autopilot be a generic term use in multiple industries particularly aircraft and generally mean that something can guide itself without human intervention  in relation to cars in 2021 most mainstream carmakers be focus on level 2 autonomy this level allow the vehicle to take over most steer acceleration and brake function but still require that the driver remain fully attentive to the drive situation and be able to intervene at any moment it be not driverless fully autonomous drive like robotaxis from waymo or cruise (that be now test in california)'"
      ]
     },
     "execution_count": 25,
     "metadata": {},
     "output_type": "execute_result"
    }
   ],
   "source": [
    "df.loc[5]['Content_Parsed_5']"
   ]
  },
  {
   "cell_type": "code",
   "execution_count": 26,
   "id": "005e36b4",
   "metadata": {},
   "outputs": [
    {
     "data": {
      "text/plain": [
       "'autopilot   generic term use  multiple industries particularly aircraft  generally mean  something  guide  without human intervention   relation  cars  2021  mainstream carmakers  focus  level 2 autonomy  level allow  vehicle  take   steer acceleration  brake function  still require   driver remain fully attentive   drive situation   able  intervene   moment    driverless fully autonomous drive like robotaxis  waymo  cruise (   test  california)'"
      ]
     },
     "execution_count": 26,
     "metadata": {},
     "output_type": "execute_result"
    }
   ],
   "source": [
    "df.loc[5]['Content_Parsed_6']"
   ]
  },
  {
   "cell_type": "code",
   "execution_count": 27,
   "id": "75761a49",
   "metadata": {},
   "outputs": [
    {
     "data": {
      "text/html": [
       "<div>\n",
       "<style scoped>\n",
       "    .dataframe tbody tr th:only-of-type {\n",
       "        vertical-align: middle;\n",
       "    }\n",
       "\n",
       "    .dataframe tbody tr th {\n",
       "        vertical-align: top;\n",
       "    }\n",
       "\n",
       "    .dataframe thead th {\n",
       "        text-align: right;\n",
       "    }\n",
       "</style>\n",
       "<table border=\"1\" class=\"dataframe\">\n",
       "  <thead>\n",
       "    <tr style=\"text-align: right;\">\n",
       "      <th></th>\n",
       "      <th>Article Content</th>\n",
       "      <th>Category</th>\n",
       "      <th>id</th>\n",
       "      <th>News_length</th>\n",
       "      <th>Content_Parsed_1</th>\n",
       "      <th>Content_Parsed_2</th>\n",
       "      <th>Content_Parsed_3</th>\n",
       "      <th>Content_Parsed_4</th>\n",
       "      <th>Content_Parsed_5</th>\n",
       "      <th>Content_Parsed_6</th>\n",
       "    </tr>\n",
       "  </thead>\n",
       "  <tbody>\n",
       "    <tr>\n",
       "      <th>0</th>\n",
       "      <td>The term ‘autopilot’ has been used for decades...</td>\n",
       "      <td>Autonomous Cars</td>\n",
       "      <td>1</td>\n",
       "      <td>425.0</td>\n",
       "      <td>The term ‘autopilot’ has been used for decades...</td>\n",
       "      <td>the term ‘autopilot’ has been used for decades...</td>\n",
       "      <td>the term ‘autopilot’ has been used for decades...</td>\n",
       "      <td>the term ‘autopilot’ has been used for decades...</td>\n",
       "      <td>the term ‘autopilot’ have be use for decades w...</td>\n",
       "      <td>term ‘autopilot’   use  decades within  aircr...</td>\n",
       "    </tr>\n",
       "  </tbody>\n",
       "</table>\n",
       "</div>"
      ],
      "text/plain": [
       "                                     Article Content         Category  id  \\\n",
       "0  The term ‘autopilot’ has been used for decades...  Autonomous Cars   1   \n",
       "\n",
       "   News_length                                   Content_Parsed_1  \\\n",
       "0        425.0  The term ‘autopilot’ has been used for decades...   \n",
       "\n",
       "                                    Content_Parsed_2  \\\n",
       "0  the term ‘autopilot’ has been used for decades...   \n",
       "\n",
       "                                    Content_Parsed_3  \\\n",
       "0  the term ‘autopilot’ has been used for decades...   \n",
       "\n",
       "                                    Content_Parsed_4  \\\n",
       "0  the term ‘autopilot’ has been used for decades...   \n",
       "\n",
       "                                    Content_Parsed_5  \\\n",
       "0  the term ‘autopilot’ have be use for decades w...   \n",
       "\n",
       "                                    Content_Parsed_6  \n",
       "0   term ‘autopilot’   use  decades within  aircr...  "
      ]
     },
     "execution_count": 27,
     "metadata": {},
     "output_type": "execute_result"
    }
   ],
   "source": [
    "df.head(1)"
   ]
  },
  {
   "cell_type": "code",
   "execution_count": 28,
   "id": "56403696",
   "metadata": {},
   "outputs": [],
   "source": [
    "list_columns = [\"Category\", \"Article Content\", \"Content_Parsed_6\"]\n",
    "df = df[list_columns]\n",
    "\n",
    "df = df.rename(columns={'Content_Parsed_6': 'Content_Parsed'})"
   ]
  },
  {
   "cell_type": "code",
   "execution_count": 29,
   "id": "b1bcc2ce",
   "metadata": {},
   "outputs": [
    {
     "data": {
      "text/html": [
       "<div>\n",
       "<style scoped>\n",
       "    .dataframe tbody tr th:only-of-type {\n",
       "        vertical-align: middle;\n",
       "    }\n",
       "\n",
       "    .dataframe tbody tr th {\n",
       "        vertical-align: top;\n",
       "    }\n",
       "\n",
       "    .dataframe thead th {\n",
       "        text-align: right;\n",
       "    }\n",
       "</style>\n",
       "<table border=\"1\" class=\"dataframe\">\n",
       "  <thead>\n",
       "    <tr style=\"text-align: right;\">\n",
       "      <th></th>\n",
       "      <th>Category</th>\n",
       "      <th>Article Content</th>\n",
       "      <th>Content_Parsed</th>\n",
       "    </tr>\n",
       "  </thead>\n",
       "  <tbody>\n",
       "    <tr>\n",
       "      <th>0</th>\n",
       "      <td>Autonomous Cars</td>\n",
       "      <td>The term ‘autopilot’ has been used for decades...</td>\n",
       "      <td>term ‘autopilot’   use  decades within  aircr...</td>\n",
       "    </tr>\n",
       "    <tr>\n",
       "      <th>1</th>\n",
       "      <td>Autonomous Cars</td>\n",
       "      <td>Tesla most famously branded its self-driving f...</td>\n",
       "      <td>tesla  famously brand  self-driving feature  “...</td>\n",
       "    </tr>\n",
       "    <tr>\n",
       "      <th>2</th>\n",
       "      <td>Autonomous Cars</td>\n",
       "      <td>This article provides a breakdown of cars with...</td>\n",
       "      <td>article provide  breakdown  cars  autopilot  ...</td>\n",
       "    </tr>\n",
       "    <tr>\n",
       "      <th>3</th>\n",
       "      <td>Autonomous Cars</td>\n",
       "      <td>First, let’s define exactly what constitutes ‘...</td>\n",
       "      <td>first let’ define exactly  constitute ‘autopil...</td>\n",
       "    </tr>\n",
       "    <tr>\n",
       "      <th>4</th>\n",
       "      <td>Autonomous Cars</td>\n",
       "      <td>Learn more about this by reading our article o...</td>\n",
       "      <td>learn     read  article  sae self-driving leve...</td>\n",
       "    </tr>\n",
       "  </tbody>\n",
       "</table>\n",
       "</div>"
      ],
      "text/plain": [
       "          Category                                    Article Content  \\\n",
       "0  Autonomous Cars  The term ‘autopilot’ has been used for decades...   \n",
       "1  Autonomous Cars  Tesla most famously branded its self-driving f...   \n",
       "2  Autonomous Cars  This article provides a breakdown of cars with...   \n",
       "3  Autonomous Cars  First, let’s define exactly what constitutes ‘...   \n",
       "4  Autonomous Cars  Learn more about this by reading our article o...   \n",
       "\n",
       "                                      Content_Parsed  \n",
       "0   term ‘autopilot’   use  decades within  aircr...  \n",
       "1  tesla  famously brand  self-driving feature  “...  \n",
       "2   article provide  breakdown  cars  autopilot  ...  \n",
       "3  first let’ define exactly  constitute ‘autopil...  \n",
       "4  learn     read  article  sae self-driving leve...  "
      ]
     },
     "execution_count": 29,
     "metadata": {},
     "output_type": "execute_result"
    }
   ],
   "source": [
    "df.head()"
   ]
  },
  {
   "cell_type": "code",
   "execution_count": 30,
   "id": "d4a506b6",
   "metadata": {},
   "outputs": [],
   "source": [
    "category_codes = {\n",
    "    'Autonomous Cars': 0,\n",
    "    'Bill Resource': 1,\n",
    "    'Companies Working on Autonomous Cars': 2\n",
    "}"
   ]
  },
  {
   "cell_type": "code",
   "execution_count": 31,
   "id": "b4c57b55",
   "metadata": {},
   "outputs": [],
   "source": [
    "df['Category_Code'] = df['Category']\n",
    "df = df.replace({'Category_Code':category_codes})"
   ]
  },
  {
   "cell_type": "code",
   "execution_count": 32,
   "id": "d75d5e43",
   "metadata": {},
   "outputs": [
    {
     "data": {
      "text/html": [
       "<div>\n",
       "<style scoped>\n",
       "    .dataframe tbody tr th:only-of-type {\n",
       "        vertical-align: middle;\n",
       "    }\n",
       "\n",
       "    .dataframe tbody tr th {\n",
       "        vertical-align: top;\n",
       "    }\n",
       "\n",
       "    .dataframe thead th {\n",
       "        text-align: right;\n",
       "    }\n",
       "</style>\n",
       "<table border=\"1\" class=\"dataframe\">\n",
       "  <thead>\n",
       "    <tr style=\"text-align: right;\">\n",
       "      <th></th>\n",
       "      <th>Category</th>\n",
       "      <th>Article Content</th>\n",
       "      <th>Content_Parsed</th>\n",
       "      <th>Category_Code</th>\n",
       "    </tr>\n",
       "  </thead>\n",
       "  <tbody>\n",
       "    <tr>\n",
       "      <th>0</th>\n",
       "      <td>Autonomous Cars</td>\n",
       "      <td>The term ‘autopilot’ has been used for decades...</td>\n",
       "      <td>term ‘autopilot’   use  decades within  aircr...</td>\n",
       "      <td>0</td>\n",
       "    </tr>\n",
       "    <tr>\n",
       "      <th>1</th>\n",
       "      <td>Autonomous Cars</td>\n",
       "      <td>Tesla most famously branded its self-driving f...</td>\n",
       "      <td>tesla  famously brand  self-driving feature  “...</td>\n",
       "      <td>0</td>\n",
       "    </tr>\n",
       "    <tr>\n",
       "      <th>2</th>\n",
       "      <td>Autonomous Cars</td>\n",
       "      <td>This article provides a breakdown of cars with...</td>\n",
       "      <td>article provide  breakdown  cars  autopilot  ...</td>\n",
       "      <td>0</td>\n",
       "    </tr>\n",
       "    <tr>\n",
       "      <th>3</th>\n",
       "      <td>Autonomous Cars</td>\n",
       "      <td>First, let’s define exactly what constitutes ‘...</td>\n",
       "      <td>first let’ define exactly  constitute ‘autopil...</td>\n",
       "      <td>0</td>\n",
       "    </tr>\n",
       "    <tr>\n",
       "      <th>4</th>\n",
       "      <td>Autonomous Cars</td>\n",
       "      <td>Learn more about this by reading our article o...</td>\n",
       "      <td>learn     read  article  sae self-driving leve...</td>\n",
       "      <td>0</td>\n",
       "    </tr>\n",
       "  </tbody>\n",
       "</table>\n",
       "</div>"
      ],
      "text/plain": [
       "          Category                                    Article Content  \\\n",
       "0  Autonomous Cars  The term ‘autopilot’ has been used for decades...   \n",
       "1  Autonomous Cars  Tesla most famously branded its self-driving f...   \n",
       "2  Autonomous Cars  This article provides a breakdown of cars with...   \n",
       "3  Autonomous Cars  First, let’s define exactly what constitutes ‘...   \n",
       "4  Autonomous Cars  Learn more about this by reading our article o...   \n",
       "\n",
       "                                      Content_Parsed  Category_Code  \n",
       "0   term ‘autopilot’   use  decades within  aircr...              0  \n",
       "1  tesla  famously brand  self-driving feature  “...              0  \n",
       "2   article provide  breakdown  cars  autopilot  ...              0  \n",
       "3  first let’ define exactly  constitute ‘autopil...              0  \n",
       "4  learn     read  article  sae self-driving leve...              0  "
      ]
     },
     "execution_count": 32,
     "metadata": {},
     "output_type": "execute_result"
    }
   ],
   "source": [
    "df.head()"
   ]
  },
  {
   "cell_type": "code",
   "execution_count": 33,
   "id": "9f59f5af",
   "metadata": {},
   "outputs": [],
   "source": [
    "X_train, X_test, y_train, y_test = train_test_split(df['Content_Parsed'], \n",
    "                                                    df['Category_Code'], \n",
    "                                                    test_size=0.15, \n",
    "                                                    random_state=8)"
   ]
  },
  {
   "cell_type": "code",
   "execution_count": 34,
   "id": "a781f678",
   "metadata": {},
   "outputs": [],
   "source": [
    "ngram_range = (1,2)\n",
    "min_df = 10\n",
    "max_df = 1.\n",
    "max_features = 300"
   ]
  },
  {
   "cell_type": "code",
   "execution_count": 35,
   "id": "5cd2de0e",
   "metadata": {},
   "outputs": [
    {
     "name": "stdout",
     "output_type": "stream",
     "text": [
      "(926, 300)\n",
      "(164, 300)\n"
     ]
    }
   ],
   "source": [
    "tfidf = TfidfVectorizer(encoding='utf-8',\n",
    "                        ngram_range=ngram_range,\n",
    "                        stop_words=None,\n",
    "                        lowercase=False,\n",
    "                        max_df=max_df,\n",
    "                        min_df=min_df,\n",
    "                        max_features=max_features,\n",
    "                        norm='l2',\n",
    "                        sublinear_tf=True)\n",
    "                        \n",
    "features_train = tfidf.fit_transform(X_train).toarray()\n",
    "labels_train = y_train\n",
    "print(features_train.shape)\n",
    "\n",
    "features_test = tfidf.transform(X_test).toarray()\n",
    "labels_test = y_test\n",
    "print(features_test.shape)"
   ]
  },
  {
   "cell_type": "code",
   "execution_count": 36,
   "id": "86a9e378",
   "metadata": {},
   "outputs": [
    {
     "name": "stdout",
     "output_type": "stream",
     "text": [
      "# 'Autonomous Cars' category:\n",
      "  . Most correlated unigrams:\n",
      ". lane\n",
      ". assist\n",
      ". core\n",
      ". feature\n",
      ". autopilot\n",
      "  . Most correlated bigrams:\n",
      ". motor vehicle\n",
      ". major developments\n",
      "\n",
      "# 'Bill Resource' category:\n",
      "  . Most correlated unigrams:\n",
      ". nan\n",
      ". vehicle\n",
      ". 28\n",
      ". person\n",
      ". section\n",
      "  . Most correlated bigrams:\n",
      ". motor vehicle\n",
      ". self driving\n",
      "\n",
      "# 'Companies Working on Autonomous Cars' category:\n",
      "  . Most correlated unigrams:\n",
      ". closer\n",
      ". company\n",
      ". developments\n",
      ". major\n",
      ". nan\n",
      "  . Most correlated bigrams:\n",
      ". closer look\n",
      ". major developments\n",
      "\n"
     ]
    }
   ],
   "source": [
    "from sklearn.feature_selection import chi2\n",
    "import numpy as np\n",
    "\n",
    "for Product, category_id in sorted(category_codes.items()):\n",
    "    features_chi2 = chi2(features_train, labels_train == category_id)\n",
    "    indices = np.argsort(features_chi2[0])\n",
    "    feature_names = np.array(tfidf.get_feature_names())[indices]\n",
    "    unigrams = [v for v in feature_names if len(v.split(' ')) == 1]\n",
    "    bigrams = [v for v in feature_names if len(v.split(' ')) == 2]\n",
    "    print(\"# '{}' category:\".format(Product))\n",
    "    print(\"  . Most correlated unigrams:\\n. {}\".format('\\n. '.join(unigrams[-5:])))\n",
    "    print(\"  . Most correlated bigrams:\\n. {}\".format('\\n. '.join(bigrams[-2:])))\n",
    "    print(\"\")"
   ]
  },
  {
   "cell_type": "code",
   "execution_count": 37,
   "id": "c31e01b1",
   "metadata": {},
   "outputs": [
    {
     "data": {
      "text/plain": [
       "['autonomous vehicles',\n",
       " 'automate drive',\n",
       " 'without human',\n",
       " 'driver assistance',\n",
       " 'drive system',\n",
       " 'autonomous vehicle',\n",
       " 'child restraint',\n",
       " 'subsection section',\n",
       " 'pursuant section',\n",
       " 'driving technology',\n",
       " 'driver license',\n",
       " 'requirements section',\n",
       " 'human driver',\n",
       " 'vehicle operate',\n",
       " 'statutes amend',\n",
       " 'amend read',\n",
       " 'arizona revise',\n",
       " 'revise statutes',\n",
       " 'fully autonomous',\n",
       " 'company also',\n",
       " 'driving cars',\n",
       " 'section 28',\n",
       " 'autonomous drive',\n",
       " 'motor vehicle',\n",
       " 'self driving',\n",
       " 'closer look',\n",
       " 'major developments']"
      ]
     },
     "execution_count": 37,
     "metadata": {},
     "output_type": "execute_result"
    }
   ],
   "source": [
    "bigrams"
   ]
  },
  {
   "cell_type": "code",
   "execution_count": 39,
   "id": "e75a2cb1",
   "metadata": {},
   "outputs": [],
   "source": [
    "# X_train\n",
    "with open('X_train.pickle', 'wb') as output:\n",
    "    pickle.dump(X_train, output)\n",
    "    \n",
    "# X_test    \n",
    "with open('X_test.pickle', 'wb') as output:\n",
    "    pickle.dump(X_test, output)\n",
    "    \n",
    "# y_train\n",
    "with open('y_train.pickle', 'wb') as output:\n",
    "    pickle.dump(y_train, output)\n",
    "    \n",
    "# y_test\n",
    "with open('y_test.pickle', 'wb') as output:\n",
    "    pickle.dump(y_test, output)\n",
    "    \n",
    "# df\n",
    "with open('df.pickle', 'wb') as output:\n",
    "    pickle.dump(df, output)\n",
    "    \n",
    "# features_train\n",
    "with open('features_train.pickle', 'wb') as output:\n",
    "    pickle.dump(features_train, output)\n",
    "\n",
    "# labels_train\n",
    "with open('labels_train.pickle', 'wb') as output:\n",
    "    pickle.dump(labels_train, output)\n",
    "\n",
    "# features_test\n",
    "with open('features_test.pickle', 'wb') as output:\n",
    "    pickle.dump(features_test, output)\n",
    "\n",
    "# labels_test\n",
    "with open('labels_test.pickle', 'wb') as output:\n",
    "    pickle.dump(labels_test, output)\n",
    "    \n",
    "# TF-IDF object\n",
    "with open('tfidf.pickle', 'wb') as output:\n",
    "    pickle.dump(tfidf, output)"
   ]
  },
  {
   "cell_type": "code",
   "execution_count": null,
   "id": "f73b0b9b",
   "metadata": {},
   "outputs": [],
   "source": []
  },
  {
   "cell_type": "code",
   "execution_count": null,
   "id": "6e6b1d4f",
   "metadata": {},
   "outputs": [],
   "source": []
  }
 ],
 "metadata": {
  "kernelspec": {
   "display_name": "Python 3",
   "language": "python",
   "name": "python3"
  },
  "language_info": {
   "codemirror_mode": {
    "name": "ipython",
    "version": 3
   },
   "file_extension": ".py",
   "mimetype": "text/x-python",
   "name": "python",
   "nbconvert_exporter": "python",
   "pygments_lexer": "ipython3",
   "version": "3.8.8"
  }
 },
 "nbformat": 4,
 "nbformat_minor": 5
}
